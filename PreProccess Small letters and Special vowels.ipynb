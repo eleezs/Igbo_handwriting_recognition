{
 "cells": [
  {
   "cell_type": "code",
   "execution_count": 122,
   "metadata": {},
   "outputs": [],
   "source": [
    "import os\n",
    "import numpy as np\n",
    "import matplotlib.pyplot as plt\n",
    "import matplotlib.image as mpimg\n",
    "import cv2 \n",
    "import glob"
   ]
  },
  {
   "cell_type": "code",
   "execution_count": 233,
   "metadata": {},
   "outputs": [],
   "source": [
    "img_dir = 'hw-data-small-tagged/u-low'\n",
    "# os.mkdir(\"Resized_img1\")\n",
    "i = 0\n",
    "            \n",
    "for img in glob.glob(img_dir + \"/*.png\"):\n",
    "    read_image = cv2.imread(img)\n",
    "    gray = cv2.cvtColor(read_image, cv2.COLOR_BGR2GRAY)\n",
    "    ret, thresh = cv2.threshold(gray, 0, 255, cv2.THRESH_BINARY_INV + cv2.THRESH_OTSU)\n",
    "#     blur = cv2.GaussianBlur(thresh, (5,5),0)\n",
    "    cv2.imwrite(\"Resized_img1/gu1%04i.jpg\" %i, thresh)\n",
    "    i += 1\n",
    "#     cv2.imshow('thresh', blur )\n",
    "    cv2.waitKey(30)\n",
    "cv2.destroyAllWindows()"
   ]
  },
  {
   "cell_type": "code",
   "execution_count": 234,
   "metadata": {},
   "outputs": [],
   "source": [
    "img_dir = 'hw-data-small-tagged/u-low'\n",
    "# os.mkdir(\"Resized_img1\")\n",
    "i = 0\n",
    "\n",
    "for img in glob.glob(img_dir + \"/*.png\"):\n",
    "    read_image = cv2.imread(img)\n",
    "    gray = cv2.cvtColor(read_image, cv2.COLOR_BGR2GRAY)\n",
    "    blur = cv2.GaussianBlur(gray, (7,7),0)\n",
    "    thresh = cv2.adaptiveThreshold(blur, 255, cv2.ADAPTIVE_THRESH_GAUSSIAN_C, cv2.THRESH_BINARY,11,2)\n",
    "    cv2.imwrite(\"Resized_img1/gu2%04i.jpg\" %i, thresh)\n",
    "    i += 1\n",
    "#     cv2.imshow('imgGrey', blur)\n",
    "    cv2.waitKey(30)\n",
    "cv2.destroyAllWindows()"
   ]
  },
  {
   "cell_type": "code",
   "execution_count": 235,
   "metadata": {},
   "outputs": [],
   "source": [
    "img_dir = 'hw-data-small-tagged/u-low'\n",
    "# os.mkdir(\"Resized_img1\")\n",
    "i =0\n",
    "\n",
    "for img in glob.glob(img_dir + \"/*.png\"):\n",
    "    read_image = cv2.imread(img)\n",
    "    (h, w) = read_image.shape[:2]\n",
    "    center = (w / 2, h / 2)\n",
    "    angle = 5\n",
    "    scale = 1\n",
    "    M = cv2.getRotationMatrix2D(center, angle, scale)\n",
    "    rotated = cv2.warpAffine(read_image, M, (w, h))\n",
    "    cv2.imwrite(\"Resized_img1/img1%04i.jpg\" %i, rotated)\n",
    "    i += 1\n",
    "#     cv2.imshow('read_image', rotated)\n",
    "    cv2.waitKey(30)\n",
    "cv2.destroyAllWindows()"
   ]
  },
  {
   "cell_type": "code",
   "execution_count": 236,
   "metadata": {},
   "outputs": [],
   "source": [
    "img_dir = 'hw-data-small-tagged/u-low'\n",
    "# os.mkdir(\"Resized_img1\")\n",
    "i =0\n",
    "\n",
    "for img in glob.glob(img_dir + \"/*.png\"):\n",
    "    read_image = cv2.imread(img)\n",
    "    (h, w) = read_image.shape[:2]\n",
    "    center = (w / 2, h / 2)\n",
    "    angle = -5\n",
    "    scale = 1\n",
    "    M = cv2.getRotationMatrix2D(center, angle, scale)\n",
    "    rotated = cv2.warpAffine(read_image, M, (w, h))\n",
    "    cv2.imwrite(\"Resized_img1/img2%04i.jpg\" %i, rotated)\n",
    "    i += 1\n",
    "    # cv2.imshow('read_image', rotated)\n",
    "    cv2.waitKey(30)\n",
    "cv2.destroyAllWindows()"
   ]
  },
  {
   "cell_type": "code",
   "execution_count": 237,
   "metadata": {},
   "outputs": [],
   "source": [
    "img_dir = 'hw-data-small-tagged/u-low'\n",
    "# os.mkdir(\"Resized_img1\")\n",
    "i =0\n",
    "\n",
    "for img in glob.glob(img_dir + \"/*.png\"):\n",
    "    read_image = cv2.imread(img)\n",
    "    (h, w) = read_image.shape[:2]\n",
    "    center = (w / 2, h / 2)\n",
    "    angle = 10\n",
    "    scale = 1\n",
    "    M = cv2.getRotationMatrix2D(center, angle, scale)\n",
    "    rotated = cv2.warpAffine(read_image, M, (w, h))\n",
    "    cv2.imwrite(\"Resized_img1/img3%04i.jpg\" %i, rotated)\n",
    "    i += 1\n",
    "    # cv2.imshow('read_image', rotated)\n",
    "    cv2.waitKey(30)\n",
    "cv2.destroyAllWindows()"
   ]
  },
  {
   "cell_type": "code",
   "execution_count": 238,
   "metadata": {},
   "outputs": [],
   "source": [
    "img_dir = 'hw-data-small-tagged/u-low'\n",
    "# os.mkdir(\"Resized_img1\")\n",
    "i =0\n",
    "\n",
    "for img in glob.glob(img_dir + \"/*.png\"):\n",
    "    read_image = cv2.imread(img)\n",
    "    (h, w) = read_image.shape[:2]\n",
    "    center = (w / 2, h / 2)\n",
    "    angle = -10\n",
    "    scale = 1\n",
    "    M = cv2.getRotationMatrix2D(center, angle, scale)\n",
    "    rotated = cv2.warpAffine(read_image, M, (w, h))\n",
    "    cv2.imwrite(\"Resized_img1/img4%04i.jpg\" %i, rotated)\n",
    "    i += 1\n",
    "    # cv2.imshow('read_image', rotated)\n",
    "    cv2.waitKey(30)\n",
    "cv2.destroyAllWindows()"
   ]
  },
  {
   "cell_type": "code",
   "execution_count": 239,
   "metadata": {},
   "outputs": [],
   "source": [
    "img_dir = 'hw-data-small-tagged/u-low'\n",
    "# os.mkdir(\"Resized_img1\")\n",
    "i =0\n",
    "\n",
    "for img in glob.glob(img_dir + \"/*.png\"):\n",
    "    read_image = cv2.imread(img)\n",
    "    (h, w) = read_image.shape[:2]\n",
    "    center = (w / 2, h / 2)\n",
    "    angle = 15\n",
    "    scale = 1\n",
    "    M = cv2.getRotationMatrix2D(center, angle, scale)\n",
    "    rotated = cv2.warpAffine(read_image, M, (w, h))\n",
    "    cv2.imwrite(\"Resized_img1/img5%04i.jpg\" %i, rotated)\n",
    "    i += 1\n",
    "    # cv2.imshow('read_image', rotated)\n",
    "    cv2.waitKey(30)\n",
    "cv2.destroyAllWindows()"
   ]
  },
  {
   "cell_type": "code",
   "execution_count": 240,
   "metadata": {},
   "outputs": [],
   "source": [
    "img_dir = 'hw-data-small-tagged/u-low'\n",
    "# os.mkdir(\"Resized_img1\")\n",
    "i =0\n",
    "\n",
    "for img in glob.glob(img_dir + \"/*.png\"):\n",
    "    read_image = cv2.imread(img)\n",
    "    (h, w) = read_image.shape[:2]\n",
    "    center = (w / 2, h / 2)\n",
    "    angle = -15\n",
    "    scale = 1\n",
    "    M = cv2.getRotationMatrix2D(center, angle, scale)\n",
    "    rotated = cv2.warpAffine(read_image, M, (w, h))\n",
    "    cv2.imwrite(\"Resized_img1/img6%04i.jpg\" %i, rotated)\n",
    "    i += 1\n",
    "    # cv2.imshow('read_image', rotated)\n",
    "    cv2.waitKey(30)\n",
    "cv2.destroyAllWindows()"
   ]
  },
  {
   "cell_type": "code",
   "execution_count": 241,
   "metadata": {},
   "outputs": [],
   "source": [
    "img_dir = 'hw-data-small-tagged/u-low'\n",
    "# os.mkdir(\"Resized_img1\")\n",
    "i =0\n",
    "\n",
    "for img in glob.glob(img_dir + \"/*.png\"):\n",
    "    read_image = cv2.imread(img)\n",
    "    (h, w) = read_image.shape[:2]\n",
    "    center = (w / 2, h / 2)\n",
    "    angle = 20\n",
    "    scale = 1\n",
    "    M = cv2.getRotationMatrix2D(center, angle, scale)\n",
    "    rotated = cv2.warpAffine(read_image, M, (w, h))\n",
    "    cv2.imwrite(\"Resized_img1/img7%04i.jpg\" %i, rotated)\n",
    "    i += 1\n",
    "    # cv2.imshow('read_image', rotated)\n",
    "    cv2.waitKey(30)\n",
    "cv2.destroyAllWindows()"
   ]
  },
  {
   "cell_type": "code",
   "execution_count": 242,
   "metadata": {},
   "outputs": [],
   "source": [
    "img_dir = 'hw-data-small-tagged/u-low'\n",
    "# os.mkdir(\"Resized_img1\")\n",
    "i =0\n",
    "\n",
    "for img in glob.glob(img_dir + \"/*.png\"):\n",
    "    read_image = cv2.imread(img)\n",
    "    (h, w) = read_image.shape[:2]\n",
    "    center = (w / 2, h / 2)\n",
    "    angle = -20\n",
    "    scale = 1\n",
    "    M = cv2.getRotationMatrix2D(center, angle, scale)\n",
    "    rotated = cv2.warpAffine(read_image, M, (w, h))\n",
    "    cv2.imwrite(\"Resized_img1/img8%04i.jpg\" %i, rotated)\n",
    "    i += 1\n",
    "    # cv2.imshow('read_image', rotated)\n",
    "    cv2.waitKey(30)\n",
    "cv2.destroyAllWindows()"
   ]
  },
  {
   "cell_type": "code",
   "execution_count": null,
   "metadata": {},
   "outputs": [],
   "source": []
  }
 ],
 "metadata": {
  "kernelspec": {
   "display_name": "Python 3 (ipykernel)",
   "language": "python",
   "name": "python3"
  },
  "language_info": {
   "codemirror_mode": {
    "name": "ipython",
    "version": 3
   },
   "file_extension": ".py",
   "mimetype": "text/x-python",
   "name": "python",
   "nbconvert_exporter": "python",
   "pygments_lexer": "ipython3",
   "version": "3.9.7"
  }
 },
 "nbformat": 4,
 "nbformat_minor": 2
}
